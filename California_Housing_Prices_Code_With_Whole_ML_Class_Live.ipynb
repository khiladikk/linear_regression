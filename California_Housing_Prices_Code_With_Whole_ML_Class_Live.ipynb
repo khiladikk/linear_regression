{
 "cells": [
  {
   "cell_type": "markdown",
   "metadata": {
    "colab_type": "text",
    "id": "3vE16GobkEKg"
   },
   "source": [
    "**Imported all the libraries**"
   ]
  },
  {
   "cell_type": "code",
   "execution_count": 1,
   "metadata": {
    "colab": {},
    "colab_type": "code",
    "id": "5kCtRdaukFam"
   },
   "outputs": [],
   "source": [
    "import numpy as np\n",
    "import pandas as pd\n",
    "import matplotlib.pyplot as plt\n",
    "import random\n",
    "from IPython.display import clear_output\n",
    "import math"
   ]
  },
  {
   "cell_type": "markdown",
   "metadata": {
    "colab_type": "text",
    "id": "aYh5oZvnkME2"
   },
   "source": [
    "**Read the data**"
   ]
  },
  {
   "cell_type": "code",
   "execution_count": 2,
   "metadata": {
    "colab": {},
    "colab_type": "code",
    "id": "OGbDdyZwhnMN"
   },
   "outputs": [],
   "source": [
    "data = pd.read_csv(\"california_housing_train.csv\")"
   ]
  },
  {
   "cell_type": "markdown",
   "metadata": {
    "colab_type": "text",
    "id": "zgsEgK95kOGV"
   },
   "source": [
    "**Seperated the target variable and features from the dataset**"
   ]
  },
  {
   "cell_type": "code",
   "execution_count": 3,
   "metadata": {
    "colab": {},
    "colab_type": "code",
    "id": "Op-hIXcmhsIi"
   },
   "outputs": [],
   "source": [
    "target_var = data['median_house_value']\n",
    "features = data.drop(['median_house_value'],axis = 1).copy()"
   ]
  },
  {
   "cell_type": "code",
   "execution_count": 4,
   "metadata": {
    "colab": {},
    "colab_type": "code",
    "id": "hZgTGeavtapq"
   },
   "outputs": [],
   "source": [
    "features = features/features.max()\n",
    "target_var = target_var/target_var.max()"
   ]
  },
  {
   "cell_type": "markdown",
   "metadata": {
    "colab_type": "text",
    "id": "JG-ppKYSkp9C"
   },
   "source": [
    "**We converted the data into numpy array first and then we reshaped it according to our needs**"
   ]
  },
  {
   "cell_type": "code",
   "execution_count": 5,
   "metadata": {
    "colab": {
     "base_uri": "https://localhost:8080/",
     "height": 35
    },
    "colab_type": "code",
    "id": "eNxyjMMNjSIv",
    "outputId": "b3b35c54-bd2b-4f50-b38c-7366922c8e2a"
   },
   "outputs": [
    {
     "name": "stdout",
     "output_type": "stream",
     "text": [
      "(1, 17000)\n"
     ]
    }
   ],
   "source": [
    "target_var = np.array(target_var)\n",
    "target_var = np.reshape(target_var,[1,len(target_var)])\n",
    "print(target_var.shape)"
   ]
  },
  {
   "cell_type": "code",
   "execution_count": 6,
   "metadata": {
    "colab": {},
    "colab_type": "code",
    "id": "T_69Q4flpNiv"
   },
   "outputs": [],
   "source": [
    "features = np.array(features)"
   ]
  },
  {
   "cell_type": "markdown",
   "metadata": {
    "colab_type": "text",
    "id": "b09R57DwlJyz"
   },
   "source": [
    "**Printed the shapes of features as well as target variable**"
   ]
  },
  {
   "cell_type": "code",
   "execution_count": 7,
   "metadata": {
    "colab": {
     "base_uri": "https://localhost:8080/",
     "height": 54
    },
    "colab_type": "code",
    "id": "5uh1QMTzhs-m",
    "outputId": "41a3e51e-7adf-42e2-9d83-2449f6c58a71"
   },
   "outputs": [
    {
     "name": "stdout",
     "output_type": "stream",
     "text": [
      "Feature Shape:  (17000, 8)\n",
      "Target Variable Shape:  (1, 17000)\n"
     ]
    }
   ],
   "source": [
    "print(\"Feature Shape: \",features.shape)\n",
    "print(\"Target Variable Shape: \",target_var.shape)"
   ]
  },
  {
   "cell_type": "markdown",
   "metadata": {
    "colab_type": "text",
    "id": "vkjegi54lPmk"
   },
   "source": [
    "**Here we are making all the necessary functions**"
   ]
  },
  {
   "cell_type": "code",
   "execution_count": 8,
   "metadata": {
    "colab": {},
    "colab_type": "code",
    "id": "0dNtlsrFiPwn"
   },
   "outputs": [],
   "source": [
    "def line_multidim(m,x,c):\n",
    "  return np.dot(m,x.T) + c\n",
    "\n",
    "def error(m,x,c,y):\n",
    "  return np.mean((line_multidim(m,x,c) - y)**2)\n",
    "\n",
    "def derivative_slopes(m,x,c,y):\n",
    "  return 2*np.mean(np.multiply((line_multidim(m,x,c)-y),x.T),axis = 1)\n",
    "\n",
    "def derivative_intercept(m,x,c,y):\n",
    "  return 2*np.mean((line_multidim(m,x,c)-y))\n",
    "\n",
    "def accuracy_pred(error,y):\n",
    "  return 100 - (error/np.mean(y**2))*100"
   ]
  },
  {
   "cell_type": "code",
   "execution_count": 14,
   "metadata": {
    "colab": {
     "base_uri": "https://localhost:8080/",
     "height": 305
    },
    "colab_type": "code",
    "id": "dhmPeTrci1N_",
    "outputId": "4cfde58f-d7e0-4076-ea8c-b4fe1255426c"
   },
   "outputs": [
    {
     "name": "stdout",
     "output_type": "stream",
     "text": [
      "Current Error:  0.03300438146485286 Current Iteration: 3999\n",
      "Current Accuracy: 85.37685032544351\n"
     ]
    },
    {
     "data": {
      "image/png": "[encoded data removed]",
      "text/plain": [
       "<Figure size 432x288 with 1 Axes>"
      ]
     },
     "metadata": {
      "needs_background": "light"
     },
     "output_type": "display_data"
    }
   ],
   "source": [
    "m = np.random.randn(1,8) # or [random.random(), random.random()]\n",
    "c = random.random()\n",
    "\n",
    "iterations = 4000\n",
    "lr = 0.01\n",
    "error_array = []\n",
    "\n",
    "for i in range(0,iterations):\n",
    "  m = m - lr*derivative_slopes(m,features,c,target_var)\n",
    "  c = c - lr*derivative_intercept(m,features,c,target_var)\n",
    "  error_array.append(error(m,features,c,target_var))\n",
    "  clear_output(True)\n",
    "  print(\"Current Error: \",error(m,features,c,target_var),\"Current Iteration:\",i)\n",
    "  print(\"Current Accuracy:\",accuracy_pred(error(m,features,c,target_var),target_var))\n",
    "  \n",
    "plt.plot(error_array)\n",
    "plt.show()"
   ]
  },
  {
   "cell_type": "markdown",
   "metadata": {},
   "source": [
    "Finding the correlation"
   ]
  },
  {
   "cell_type": "code",
   "execution_count": 15,
   "metadata": {
    "colab": {},
    "colab_type": "code",
    "id": "e1euQbAHs6IM"
   },
   "outputs": [],
   "source": [
    "def correlation(x,y):\n",
    "  return (np.sum((x-np.mean(x))*(y-np.mean(y))))/(np.sum((x-np.mean(x))**2) * np.sum((y-np.mean(y))**2))**0.5"
   ]
  },
  {
   "cell_type": "code",
   "execution_count": 16,
   "metadata": {
    "colab": {
     "base_uri": "https://localhost:8080/",
     "height": 35
    },
    "colab_type": "code",
    "id": "E7sYZDUgxW2T",
    "outputId": "70a0d365-44c6-4355-fdba-5d544ba342d6"
   },
   "outputs": [
    {
     "data": {
      "text/plain": [
       "0.13099146625326671"
      ]
     },
     "execution_count": 16,
     "metadata": {},
     "output_type": "execute_result"
    }
   ],
   "source": [
    "x = np.random.randn(1,10)\n",
    "y = np.random.randn(1,10)\n",
    "\n",
    "correlation(data['total_rooms'],data['median_house_value'])"
   ]
  },
  {
   "cell_type": "code",
   "execution_count": null,
   "metadata": {
    "colab": {},
    "colab_type": "code",
    "id": "S_ZEtBSixdn8"
   },
   "outputs": [],
   "source": []
  }
 ],
 "metadata": {
  "colab": {
   "collapsed_sections": [],
   "name": "California_Housing_Prices_Code_With_Whole_ML_Class_Live.ipynb",
   "provenance": [],
   "version": "0.3.2"
  },
  "kernelspec": {
   "display_name": "Python 3",
   "language": "python",
   "name": "python3"
  },
  "language_info": {
   "codemirror_mode": {
    "name": "ipython",
    "version": 3
   },
   "file_extension": ".py",
   "mimetype": "text/x-python",
   "name": "python",
   "nbconvert_exporter": "python",
   "pygments_lexer": "ipython3",
   "version": "3.7.0"
  }
 },
 "nbformat": 4,
 "nbformat_minor": 1
}
